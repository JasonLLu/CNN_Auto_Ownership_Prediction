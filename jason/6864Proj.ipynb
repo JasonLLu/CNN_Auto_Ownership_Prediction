{
  "nbformat": 4,
  "nbformat_minor": 0,
  "metadata": {
    "colab": {
      "name": "6864Proj.ipynb",
      "provenance": [],
      "include_colab_link": true
    },
    "kernelspec": {
      "name": "python3",
      "display_name": "Python 3"
    },
    "language_info": {
      "name": "python"
    }
  },
  "cells": [
    {
      "cell_type": "markdown",
      "metadata": {
        "id": "view-in-github",
        "colab_type": "text"
      },
      "source": [
        "<a href=\"https://colab.research.google.com/github/JasonLLu/CNN_Auto_Ownership_Prediction/blob/master/jason/6864Proj.ipynb\" target=\"_parent\"><img src=\"https://colab.research.google.com/assets/colab-badge.svg\" alt=\"Open In Colab\"/></a>"
      ]
    },
    {
      "cell_type": "code",
      "metadata": {
        "id": "_ZCXJUS-35NO"
      },
      "source": [
        "import nltk"
      ],
      "execution_count": null,
      "outputs": []
    },
    {
      "cell_type": "code",
      "metadata": {
        "colab": {
          "base_uri": "https://localhost:8080/"
        },
        "id": "Nzq0URsP5fxp",
        "outputId": "e0a417d2-ed93-415c-b702-a8ed6f5df938"
      },
      "source": [
        "nltk.download('gutenberg')\n"
      ],
      "execution_count": null,
      "outputs": [
        {
          "output_type": "stream",
          "text": [
            "[nltk_data] Downloading package gutenberg to /root/nltk_data...\n",
            "[nltk_data]   Unzipping corpora/gutenberg.zip.\n"
          ],
          "name": "stdout"
        },
        {
          "output_type": "execute_result",
          "data": {
            "text/plain": [
              "True"
            ]
          },
          "metadata": {
            "tags": []
          },
          "execution_count": 4
        }
      ]
    },
    {
      "cell_type": "code",
      "metadata": {
        "colab": {
          "base_uri": "https://localhost:8080/"
        },
        "id": "M624dOte6m12",
        "outputId": "4b2b7e87-c09b-4b81-c019-55ec09ff6a10"
      },
      "source": [
        "nltk.download('nps_chat')"
      ],
      "execution_count": 7,
      "outputs": [
        {
          "output_type": "stream",
          "text": [
            "[nltk_data] Downloading package nps_chat to /root/nltk_data...\n",
            "[nltk_data]   Unzipping corpora/nps_chat.zip.\n"
          ],
          "name": "stdout"
        },
        {
          "output_type": "execute_result",
          "data": {
            "text/plain": [
              "True"
            ]
          },
          "metadata": {
            "tags": []
          },
          "execution_count": 7
        }
      ]
    },
    {
      "cell_type": "code",
      "metadata": {
        "id": "LHobJ1lX5UWW"
      },
      "source": [
        "chatroom = nltk.corpus.nps_chat.posts('10-19-20s_706posts.xml')"
      ],
      "execution_count": 8,
      "outputs": []
    },
    {
      "cell_type": "code",
      "metadata": {
        "id": "KgLTcNh55Y1G",
        "colab": {
          "base_uri": "https://localhost:8080/"
        },
        "outputId": "62e501c4-3f0c-4117-ed43-aff5aab8e335"
      },
      "source": [
        "for i in range(10):\n",
        "  print(chatroom[i])"
      ],
      "execution_count": 11,
      "outputs": [
        {
          "output_type": "stream",
          "text": [
            "['now', 'im', 'left', 'with', 'this', 'gay', 'name']\n",
            "[':P']\n",
            "['PART']\n",
            "['hey', 'everyone']\n",
            "['ah', 'well']\n",
            "['NICK', ':', 'U7']\n",
            "['U7', 'is', 'a', 'gay', 'name', '.']\n",
            "['.', 'ACTION', 'gives', 'U121', 'a', 'golf', 'clap', '.']\n",
            "[':)']\n",
            "['JOIN']\n"
          ],
          "name": "stdout"
        }
      ]
    },
    {
      "cell_type": "code",
      "metadata": {
        "id": "oxr0mxEC6ooX"
      },
      "source": [
        ""
      ],
      "execution_count": null,
      "outputs": []
    }
  ]
}