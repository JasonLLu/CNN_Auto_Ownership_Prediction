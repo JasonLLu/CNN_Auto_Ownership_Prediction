{
 "cells": [
  {
   "cell_type": "code",
   "execution_count": 3,
   "metadata": {},
   "outputs": [],
   "source": [
    "import torch\n",
    "import torch.nn as nn\n",
    "import torch.nn.functional as F\n",
    "import torchvision\n",
    "import numpy as np\n",
    "import pandas as pd\n",
    "from matplotlib import pyplot as plt"
   ]
  },
  {
   "cell_type": "code",
   "execution_count": 4,
   "metadata": {},
   "outputs": [
    {
     "name": "stdout",
     "output_type": "stream",
     "text": [
      "Using the GPU!\n"
     ]
    }
   ],
   "source": [
    "# Detect if we have a GPU available\n",
    "device = torch.device(\"cuda:0\" if torch.cuda.is_available() else \"cpu\")\n",
    "if torch.cuda.is_available():\n",
    "    print(\"Using the GPU!\")\n",
    "else:\n",
    "    print(\"WARNING: Could not find GPU! Using CPU only\")"
   ]
  },
  {
   "cell_type": "code",
   "execution_count": 5,
   "metadata": {},
   "outputs": [
    {
     "name": "stdout",
     "output_type": "stream",
     "text": [
      "The sample size of training set is:  3556\n",
      "The sample size of testing set is:  889\n"
     ]
    }
   ],
   "source": [
    "x_train_nhts = np.load(\"data/x_train_nhts.npy\")\n",
    "x_test_nhts = np.load(\"data/x_test_nhts.npy\")\n",
    " \n",
    "x_train_images = np.load(\"data/x_train_images.npy\")\n",
    "x_test_images = np.load(\"data/x_test_images.npy\")\n",
    "  \n",
    "\n",
    "y_train = np.load(\"data/y_train.npy\")\n",
    "y_test = np.load(\"data/y_test.npy\")\n",
    "print(\"The sample size of training set is: \", x_train_nhts.shape[0])\n",
    "print(\"The sample size of testing set is: \", x_test_nhts.shape[0])"
   ]
  },
  {
   "cell_type": "code",
   "execution_count": 6,
   "metadata": {},
   "outputs": [
    {
     "data": {
      "text/plain": [
       "2    0.339426\n",
       "1    0.324241\n",
       "3    0.250562\n",
       "0    0.085771\n",
       "dtype: float64"
      ]
     },
     "execution_count": 6,
     "metadata": {},
     "output_type": "execute_result"
    }
   ],
   "source": [
    "# bridge numpy to torch\n",
    "x_train_nhts_torch = torch.as_tensor(x_train_nhts).float() # specify floats for the inputs\n",
    "x_train_images_torch = torch.as_tensor(x_train_images).float()\n",
    "x_test_nhts_torch = torch.as_tensor(x_test_nhts).float()\n",
    "x_test_images_torch = torch.as_tensor(x_test_images).float()\n",
    "y_train_torch = torch.as_tensor(y_train[:,0])\n",
    "y_test_torch = torch.as_tensor(y_test[:,0])\n",
    "n_train = x_train_nhts.shape[0]\n",
    "n_test = x_test_nhts.shape[0]\n",
    "# inputs: x_train_nhts, x_train_images, x_test_nhts, x_test_images, y_train, and y_test; \n",
    "K = len(np.unique(y_train))\n",
    "x_dim = x_train_nhts.shape[1]\n",
    "# \n",
    "pd.value_counts(y_train[:,0])/y_train.shape[0]"
   ]
  },
  {
   "cell_type": "code",
   "execution_count": 7,
   "metadata": {},
   "outputs": [],
   "source": [
    "##### Type 2: CNN with images.\n",
    "# To-Do: Use GPU...\n",
    "class CNN(nn.Module):\n",
    "    def __init__(self):\n",
    "        super(CNN, self).__init__()\n",
    "        # To-Do: need to have more channels for higher accuracy. \n",
    "        self.conv1 = nn.Conv2d(in_channels=4, out_channels=5, kernel_size=4, padding=2)\n",
    "        self.conv2 = nn.Conv2d(in_channels=5, out_channels=10, kernel_size=4)\n",
    "        # Question: Why is this 48*48 correct? bc 97//2 = 48\n",
    "        self.fc1 = nn.Linear(in_features=10 * 48 * 48, out_features=80)\n",
    "        self.fc2 = nn.Linear(in_features=80, out_features=K)\n",
    "        self.relu = F.relu\n",
    "        self.pool = F.max_pool2d\n",
    "        self.softmax = nn.Softmax(dim=1)\n",
    "    def forward(self, x):\n",
    "        print(x.shape)\n",
    "        out = self.relu(self.conv1(x))\n",
    "        print(out.shape)\n",
    "        out = self.pool(out, 2)\n",
    "        print(out.shape)\n",
    "        out = self.relu(self.conv2(out))\n",
    "        print(out.shape)\n",
    "        out = self.pool(out, 2)\n",
    "        print(out.shape)\n",
    "        out = out.reshape(out.size(0), -1)\n",
    "        print(out.shape)\n",
    "        out = self.relu(self.fc1(out))\n",
    "        print(out.shape)\n",
    "        out = self.fc2(out)\n",
    "        print(out.shape)\n",
    "        out = self.softmax(out)\n",
    "        print(out.shape)\n",
    "        return out"
   ]
  },
  {
   "cell_type": "code",
   "execution_count": 8,
   "metadata": {},
   "outputs": [],
   "source": [
    "# normalize the data\n",
    "x_train_images_norm_torch = x_train_images_torch/255.0\n",
    "x_test_images_norm_torch = x_test_images_torch/255.0\n",
    "# \n",
    "cnn_net = CNN().float().to(device)\n",
    "optim = torch.optim.Adam(cnn_net.parameters(), lr=0.001)\n",
    "criterion = nn.CrossEntropyLoss()\n",
    "# \n",
    "n_epoches = 150 # To-Do: need more epoches.\n",
    "batch_size = 200 "
   ]
  },
  {
   "cell_type": "code",
   "execution_count": 9,
   "metadata": {},
   "outputs": [
    {
     "name": "stdout",
     "output_type": "stream",
     "text": [
      "0 0\n",
      "torch.Size([200, 4, 200, 200])\n",
      "torch.Size([200, 5, 201, 201])\n",
      "torch.Size([200, 5, 100, 100])\n",
      "torch.Size([200, 10, 97, 97])\n",
      "torch.Size([200, 10, 48, 48])\n",
      "torch.Size([200, 23040])\n",
      "torch.Size([200, 80])\n",
      "torch.Size([200, 4])\n",
      "torch.Size([200, 4])\n",
      "0 200\n",
      "torch.Size([200, 4, 200, 200])\n",
      "torch.Size([200, 5, 201, 201])\n",
      "torch.Size([200, 5, 100, 100])\n",
      "torch.Size([200, 10, 97, 97])\n",
      "torch.Size([200, 10, 48, 48])\n",
      "torch.Size([200, 23040])\n",
      "torch.Size([200, 80])\n",
      "torch.Size([200, 4])\n",
      "torch.Size([200, 4])\n",
      "0 400\n",
      "torch.Size([200, 4, 200, 200])\n",
      "torch.Size([200, 5, 201, 201])\n",
      "torch.Size([200, 5, 100, 100])\n",
      "torch.Size([200, 10, 97, 97])\n",
      "torch.Size([200, 10, 48, 48])\n",
      "torch.Size([200, 23040])\n",
      "torch.Size([200, 80])\n",
      "torch.Size([200, 4])\n",
      "torch.Size([200, 4])\n",
      "0 600\n",
      "torch.Size([200, 4, 200, 200])\n",
      "torch.Size([200, 5, 201, 201])\n",
      "torch.Size([200, 5, 100, 100])\n",
      "torch.Size([200, 10, 97, 97])\n",
      "torch.Size([200, 10, 48, 48])\n",
      "torch.Size([200, 23040])\n",
      "torch.Size([200, 80])\n",
      "torch.Size([200, 4])\n",
      "torch.Size([200, 4])\n",
      "0 800\n",
      "torch.Size([200, 4, 200, 200])\n",
      "torch.Size([200, 5, 201, 201])\n",
      "torch.Size([200, 5, 100, 100])\n",
      "torch.Size([200, 10, 97, 97])\n",
      "torch.Size([200, 10, 48, 48])\n",
      "torch.Size([200, 23040])\n",
      "torch.Size([200, 80])\n",
      "torch.Size([200, 4])\n",
      "torch.Size([200, 4])\n",
      "0 1000\n",
      "torch.Size([200, 4, 200, 200])\n",
      "torch.Size([200, 5, 201, 201])\n",
      "torch.Size([200, 5, 100, 100])\n",
      "torch.Size([200, 10, 97, 97])\n",
      "torch.Size([200, 10, 48, 48])\n",
      "torch.Size([200, 23040])\n",
      "torch.Size([200, 80])\n",
      "torch.Size([200, 4])\n",
      "torch.Size([200, 4])\n",
      "0 1200\n",
      "torch.Size([200, 4, 200, 200])\n",
      "torch.Size([200, 5, 201, 201])\n",
      "torch.Size([200, 5, 100, 100])\n",
      "torch.Size([200, 10, 97, 97])\n",
      "torch.Size([200, 10, 48, 48])\n",
      "torch.Size([200, 23040])\n",
      "torch.Size([200, 80])\n",
      "torch.Size([200, 4])\n",
      "torch.Size([200, 4])\n",
      "0 1400\n",
      "torch.Size([200, 4, 200, 200])\n",
      "torch.Size([200, 5, 201, 201])\n",
      "torch.Size([200, 5, 100, 100])\n",
      "torch.Size([200, 10, 97, 97])\n",
      "torch.Size([200, 10, 48, 48])\n",
      "torch.Size([200, 23040])\n",
      "torch.Size([200, 80])\n",
      "torch.Size([200, 4])\n",
      "torch.Size([200, 4])\n",
      "0 1600\n",
      "torch.Size([200, 4, 200, 200])\n",
      "torch.Size([200, 5, 201, 201])\n",
      "torch.Size([200, 5, 100, 100])\n",
      "torch.Size([200, 10, 97, 97])\n",
      "torch.Size([200, 10, 48, 48])\n",
      "torch.Size([200, 23040])\n",
      "torch.Size([200, 80])\n",
      "torch.Size([200, 4])\n",
      "torch.Size([200, 4])\n",
      "0 1800\n",
      "torch.Size([200, 4, 200, 200])\n",
      "torch.Size([200, 5, 201, 201])\n",
      "torch.Size([200, 5, 100, 100])\n",
      "torch.Size([200, 10, 97, 97])\n",
      "torch.Size([200, 10, 48, 48])\n",
      "torch.Size([200, 23040])\n",
      "torch.Size([200, 80])\n",
      "torch.Size([200, 4])\n",
      "torch.Size([200, 4])\n",
      "0 2000\n",
      "torch.Size([200, 4, 200, 200])\n",
      "torch.Size([200, 5, 201, 201])\n",
      "torch.Size([200, 5, 100, 100])\n",
      "torch.Size([200, 10, 97, 97])\n",
      "torch.Size([200, 10, 48, 48])\n",
      "torch.Size([200, 23040])\n",
      "torch.Size([200, 80])\n",
      "torch.Size([200, 4])\n",
      "torch.Size([200, 4])\n",
      "0 2200\n",
      "torch.Size([200, 4, 200, 200])\n",
      "torch.Size([200, 5, 201, 201])\n",
      "torch.Size([200, 5, 100, 100])\n",
      "torch.Size([200, 10, 97, 97])\n",
      "torch.Size([200, 10, 48, 48])\n",
      "torch.Size([200, 23040])\n",
      "torch.Size([200, 80])\n",
      "torch.Size([200, 4])\n",
      "torch.Size([200, 4])\n",
      "0 2400\n",
      "torch.Size([200, 4, 200, 200])\n",
      "torch.Size([200, 5, 201, 201])\n",
      "torch.Size([200, 5, 100, 100])\n",
      "torch.Size([200, 10, 97, 97])\n",
      "torch.Size([200, 10, 48, 48])\n",
      "torch.Size([200, 23040])\n",
      "torch.Size([200, 80])\n",
      "torch.Size([200, 4])\n",
      "torch.Size([200, 4])\n",
      "0 2600\n",
      "torch.Size([200, 4, 200, 200])\n",
      "torch.Size([200, 5, 201, 201])\n",
      "torch.Size([200, 5, 100, 100])\n",
      "torch.Size([200, 10, 97, 97])\n",
      "torch.Size([200, 10, 48, 48])\n",
      "torch.Size([200, 23040])\n",
      "torch.Size([200, 80])\n",
      "torch.Size([200, 4])\n",
      "torch.Size([200, 4])\n",
      "0 2800\n",
      "torch.Size([200, 4, 200, 200])\n",
      "torch.Size([200, 5, 201, 201])\n",
      "torch.Size([200, 5, 100, 100])\n",
      "torch.Size([200, 10, 97, 97])\n",
      "torch.Size([200, 10, 48, 48])\n",
      "torch.Size([200, 23040])\n",
      "torch.Size([200, 80])\n",
      "torch.Size([200, 4])\n",
      "torch.Size([200, 4])\n",
      "0 3000\n",
      "torch.Size([200, 4, 200, 200])\n",
      "torch.Size([200, 5, 201, 201])\n",
      "torch.Size([200, 5, 100, 100])\n",
      "torch.Size([200, 10, 97, 97])\n",
      "torch.Size([200, 10, 48, 48])\n",
      "torch.Size([200, 23040])\n",
      "torch.Size([200, 80])\n",
      "torch.Size([200, 4])\n",
      "torch.Size([200, 4])\n",
      "0 3200\n",
      "torch.Size([200, 4, 200, 200])\n",
      "torch.Size([200, 5, 201, 201])\n",
      "torch.Size([200, 5, 100, 100])\n",
      "torch.Size([200, 10, 97, 97])\n",
      "torch.Size([200, 10, 48, 48])\n",
      "torch.Size([200, 23040])\n",
      "torch.Size([200, 80])\n",
      "torch.Size([200, 4])\n",
      "torch.Size([200, 4])\n",
      "0 3400\n",
      "torch.Size([156, 4, 200, 200])\n",
      "torch.Size([156, 5, 201, 201])\n",
      "torch.Size([156, 5, 100, 100])\n",
      "torch.Size([156, 10, 97, 97])\n",
      "torch.Size([156, 10, 48, 48])\n",
      "torch.Size([156, 23040])\n",
      "torch.Size([156, 80])\n",
      "torch.Size([156, 4])\n",
      "torch.Size([156, 4])\n",
      "torch.Size([3556, 4, 200, 200])\n"
     ]
    },
    {
     "ename": "RuntimeError",
     "evalue": "CUDA out of memory. Tried to allocate 2.68 GiB (GPU 0; 15.75 GiB total capacity; 2.24 GiB already allocated; 215.88 MiB free; 72.21 MiB cached)",
     "output_type": "error",
     "traceback": [
      "\u001b[0;31m---------------------------------------------------------------------------\u001b[0m",
      "\u001b[0;31mRuntimeError\u001b[0m                              Traceback (most recent call last)",
      "\u001b[0;32m<ipython-input-9-bafca138b8e7>\u001b[0m in \u001b[0;36m<module>\u001b[0;34m()\u001b[0m\n\u001b[1;32m     24\u001b[0m     \u001b[0;31m# eval training accuracy\u001b[0m\u001b[0;34m\u001b[0m\u001b[0;34m\u001b[0m\u001b[0m\n\u001b[1;32m     25\u001b[0m     \u001b[0;32mwith\u001b[0m \u001b[0mtorch\u001b[0m\u001b[0;34m.\u001b[0m\u001b[0mno_grad\u001b[0m\u001b[0;34m(\u001b[0m\u001b[0;34m)\u001b[0m\u001b[0;34m:\u001b[0m\u001b[0;34m\u001b[0m\u001b[0m\n\u001b[0;32m---> 26\u001b[0;31m         \u001b[0my_pred_train\u001b[0m \u001b[0;34m=\u001b[0m \u001b[0mcnn_net\u001b[0m\u001b[0;34m(\u001b[0m\u001b[0mx_train_images_norm_torch\u001b[0m\u001b[0;34m.\u001b[0m\u001b[0mto\u001b[0m\u001b[0;34m(\u001b[0m\u001b[0mdevice\u001b[0m\u001b[0;34m)\u001b[0m\u001b[0;34m)\u001b[0m\u001b[0;34m\u001b[0m\u001b[0m\n\u001b[0m\u001b[1;32m     27\u001b[0m         \u001b[0mloss_train\u001b[0m \u001b[0;34m=\u001b[0m \u001b[0mcriterion\u001b[0m\u001b[0;34m(\u001b[0m\u001b[0my_pred_train\u001b[0m\u001b[0;34m.\u001b[0m\u001b[0msqueeze\u001b[0m\u001b[0;34m(\u001b[0m\u001b[0;34m)\u001b[0m\u001b[0;34m,\u001b[0m \u001b[0my_train_torch\u001b[0m\u001b[0;34m.\u001b[0m\u001b[0mto\u001b[0m\u001b[0;34m(\u001b[0m\u001b[0mdevice\u001b[0m\u001b[0;34m)\u001b[0m\u001b[0;34m)\u001b[0m\u001b[0;34m\u001b[0m\u001b[0m\n\u001b[1;32m     28\u001b[0m         \u001b[0mtrain_losses\u001b[0m\u001b[0;34m.\u001b[0m\u001b[0mappend\u001b[0m\u001b[0;34m(\u001b[0m\u001b[0mloss_train\u001b[0m\u001b[0;34m)\u001b[0m\u001b[0;34m\u001b[0m\u001b[0m\n",
      "\u001b[0;32m~/anaconda3/envs/pytorch_p36/lib/python3.6/site-packages/torch/nn/modules/module.py\u001b[0m in \u001b[0;36m__call__\u001b[0;34m(self, *input, **kwargs)\u001b[0m\n\u001b[1;32m    545\u001b[0m             \u001b[0mresult\u001b[0m \u001b[0;34m=\u001b[0m \u001b[0mself\u001b[0m\u001b[0;34m.\u001b[0m\u001b[0m_slow_forward\u001b[0m\u001b[0;34m(\u001b[0m\u001b[0;34m*\u001b[0m\u001b[0minput\u001b[0m\u001b[0;34m,\u001b[0m \u001b[0;34m**\u001b[0m\u001b[0mkwargs\u001b[0m\u001b[0;34m)\u001b[0m\u001b[0;34m\u001b[0m\u001b[0m\n\u001b[1;32m    546\u001b[0m         \u001b[0;32melse\u001b[0m\u001b[0;34m:\u001b[0m\u001b[0;34m\u001b[0m\u001b[0m\n\u001b[0;32m--> 547\u001b[0;31m             \u001b[0mresult\u001b[0m \u001b[0;34m=\u001b[0m \u001b[0mself\u001b[0m\u001b[0;34m.\u001b[0m\u001b[0mforward\u001b[0m\u001b[0;34m(\u001b[0m\u001b[0;34m*\u001b[0m\u001b[0minput\u001b[0m\u001b[0;34m,\u001b[0m \u001b[0;34m**\u001b[0m\u001b[0mkwargs\u001b[0m\u001b[0;34m)\u001b[0m\u001b[0;34m\u001b[0m\u001b[0m\n\u001b[0m\u001b[1;32m    548\u001b[0m         \u001b[0;32mfor\u001b[0m \u001b[0mhook\u001b[0m \u001b[0;32min\u001b[0m \u001b[0mself\u001b[0m\u001b[0;34m.\u001b[0m\u001b[0m_forward_hooks\u001b[0m\u001b[0;34m.\u001b[0m\u001b[0mvalues\u001b[0m\u001b[0;34m(\u001b[0m\u001b[0;34m)\u001b[0m\u001b[0;34m:\u001b[0m\u001b[0;34m\u001b[0m\u001b[0m\n\u001b[1;32m    549\u001b[0m             \u001b[0mhook_result\u001b[0m \u001b[0;34m=\u001b[0m \u001b[0mhook\u001b[0m\u001b[0;34m(\u001b[0m\u001b[0mself\u001b[0m\u001b[0;34m,\u001b[0m \u001b[0minput\u001b[0m\u001b[0;34m,\u001b[0m \u001b[0mresult\u001b[0m\u001b[0;34m)\u001b[0m\u001b[0;34m\u001b[0m\u001b[0m\n",
      "\u001b[0;32m<ipython-input-7-59d54fdd4234>\u001b[0m in \u001b[0;36mforward\u001b[0;34m(self, x)\u001b[0m\n\u001b[1;32m     15\u001b[0m     \u001b[0;32mdef\u001b[0m \u001b[0mforward\u001b[0m\u001b[0;34m(\u001b[0m\u001b[0mself\u001b[0m\u001b[0;34m,\u001b[0m \u001b[0mx\u001b[0m\u001b[0;34m)\u001b[0m\u001b[0;34m:\u001b[0m\u001b[0;34m\u001b[0m\u001b[0m\n\u001b[1;32m     16\u001b[0m         \u001b[0mprint\u001b[0m\u001b[0;34m(\u001b[0m\u001b[0mx\u001b[0m\u001b[0;34m.\u001b[0m\u001b[0mshape\u001b[0m\u001b[0;34m)\u001b[0m\u001b[0;34m\u001b[0m\u001b[0m\n\u001b[0;32m---> 17\u001b[0;31m         \u001b[0mout\u001b[0m \u001b[0;34m=\u001b[0m \u001b[0mself\u001b[0m\u001b[0;34m.\u001b[0m\u001b[0mrelu\u001b[0m\u001b[0;34m(\u001b[0m\u001b[0mself\u001b[0m\u001b[0;34m.\u001b[0m\u001b[0mconv1\u001b[0m\u001b[0;34m(\u001b[0m\u001b[0mx\u001b[0m\u001b[0;34m)\u001b[0m\u001b[0;34m)\u001b[0m\u001b[0;34m\u001b[0m\u001b[0m\n\u001b[0m\u001b[1;32m     18\u001b[0m         \u001b[0mprint\u001b[0m\u001b[0;34m(\u001b[0m\u001b[0mout\u001b[0m\u001b[0;34m.\u001b[0m\u001b[0mshape\u001b[0m\u001b[0;34m)\u001b[0m\u001b[0;34m\u001b[0m\u001b[0m\n\u001b[1;32m     19\u001b[0m         \u001b[0mout\u001b[0m \u001b[0;34m=\u001b[0m \u001b[0mself\u001b[0m\u001b[0;34m.\u001b[0m\u001b[0mpool\u001b[0m\u001b[0;34m(\u001b[0m\u001b[0mout\u001b[0m\u001b[0;34m,\u001b[0m \u001b[0;36m2\u001b[0m\u001b[0;34m)\u001b[0m\u001b[0;34m\u001b[0m\u001b[0m\n",
      "\u001b[0;32m~/anaconda3/envs/pytorch_p36/lib/python3.6/site-packages/torch/nn/modules/module.py\u001b[0m in \u001b[0;36m__call__\u001b[0;34m(self, *input, **kwargs)\u001b[0m\n\u001b[1;32m    545\u001b[0m             \u001b[0mresult\u001b[0m \u001b[0;34m=\u001b[0m \u001b[0mself\u001b[0m\u001b[0;34m.\u001b[0m\u001b[0m_slow_forward\u001b[0m\u001b[0;34m(\u001b[0m\u001b[0;34m*\u001b[0m\u001b[0minput\u001b[0m\u001b[0;34m,\u001b[0m \u001b[0;34m**\u001b[0m\u001b[0mkwargs\u001b[0m\u001b[0;34m)\u001b[0m\u001b[0;34m\u001b[0m\u001b[0m\n\u001b[1;32m    546\u001b[0m         \u001b[0;32melse\u001b[0m\u001b[0;34m:\u001b[0m\u001b[0;34m\u001b[0m\u001b[0m\n\u001b[0;32m--> 547\u001b[0;31m             \u001b[0mresult\u001b[0m \u001b[0;34m=\u001b[0m \u001b[0mself\u001b[0m\u001b[0;34m.\u001b[0m\u001b[0mforward\u001b[0m\u001b[0;34m(\u001b[0m\u001b[0;34m*\u001b[0m\u001b[0minput\u001b[0m\u001b[0;34m,\u001b[0m \u001b[0;34m**\u001b[0m\u001b[0mkwargs\u001b[0m\u001b[0;34m)\u001b[0m\u001b[0;34m\u001b[0m\u001b[0m\n\u001b[0m\u001b[1;32m    548\u001b[0m         \u001b[0;32mfor\u001b[0m \u001b[0mhook\u001b[0m \u001b[0;32min\u001b[0m \u001b[0mself\u001b[0m\u001b[0;34m.\u001b[0m\u001b[0m_forward_hooks\u001b[0m\u001b[0;34m.\u001b[0m\u001b[0mvalues\u001b[0m\u001b[0;34m(\u001b[0m\u001b[0;34m)\u001b[0m\u001b[0;34m:\u001b[0m\u001b[0;34m\u001b[0m\u001b[0m\n\u001b[1;32m    549\u001b[0m             \u001b[0mhook_result\u001b[0m \u001b[0;34m=\u001b[0m \u001b[0mhook\u001b[0m\u001b[0;34m(\u001b[0m\u001b[0mself\u001b[0m\u001b[0;34m,\u001b[0m \u001b[0minput\u001b[0m\u001b[0;34m,\u001b[0m \u001b[0mresult\u001b[0m\u001b[0;34m)\u001b[0m\u001b[0;34m\u001b[0m\u001b[0m\n",
      "\u001b[0;32m~/anaconda3/envs/pytorch_p36/lib/python3.6/site-packages/torch/nn/modules/conv.py\u001b[0m in \u001b[0;36mforward\u001b[0;34m(self, input)\u001b[0m\n\u001b[1;32m    341\u001b[0m \u001b[0;34m\u001b[0m\u001b[0m\n\u001b[1;32m    342\u001b[0m     \u001b[0;32mdef\u001b[0m \u001b[0mforward\u001b[0m\u001b[0;34m(\u001b[0m\u001b[0mself\u001b[0m\u001b[0;34m,\u001b[0m \u001b[0minput\u001b[0m\u001b[0;34m)\u001b[0m\u001b[0;34m:\u001b[0m\u001b[0;34m\u001b[0m\u001b[0m\n\u001b[0;32m--> 343\u001b[0;31m         \u001b[0;32mreturn\u001b[0m \u001b[0mself\u001b[0m\u001b[0;34m.\u001b[0m\u001b[0mconv2d_forward\u001b[0m\u001b[0;34m(\u001b[0m\u001b[0minput\u001b[0m\u001b[0;34m,\u001b[0m \u001b[0mself\u001b[0m\u001b[0;34m.\u001b[0m\u001b[0mweight\u001b[0m\u001b[0;34m)\u001b[0m\u001b[0;34m\u001b[0m\u001b[0m\n\u001b[0m\u001b[1;32m    344\u001b[0m \u001b[0;34m\u001b[0m\u001b[0m\n\u001b[1;32m    345\u001b[0m \u001b[0;32mclass\u001b[0m \u001b[0mConv3d\u001b[0m\u001b[0;34m(\u001b[0m\u001b[0m_ConvNd\u001b[0m\u001b[0;34m)\u001b[0m\u001b[0;34m:\u001b[0m\u001b[0;34m\u001b[0m\u001b[0m\n",
      "\u001b[0;32m~/anaconda3/envs/pytorch_p36/lib/python3.6/site-packages/torch/nn/modules/conv.py\u001b[0m in \u001b[0;36mconv2d_forward\u001b[0;34m(self, input, weight)\u001b[0m\n\u001b[1;32m    338\u001b[0m                             _pair(0), self.dilation, self.groups)\n\u001b[1;32m    339\u001b[0m         return F.conv2d(input, weight, self.bias, self.stride,\n\u001b[0;32m--> 340\u001b[0;31m                         self.padding, self.dilation, self.groups)\n\u001b[0m\u001b[1;32m    341\u001b[0m \u001b[0;34m\u001b[0m\u001b[0m\n\u001b[1;32m    342\u001b[0m     \u001b[0;32mdef\u001b[0m \u001b[0mforward\u001b[0m\u001b[0;34m(\u001b[0m\u001b[0mself\u001b[0m\u001b[0;34m,\u001b[0m \u001b[0minput\u001b[0m\u001b[0;34m)\u001b[0m\u001b[0;34m:\u001b[0m\u001b[0;34m\u001b[0m\u001b[0m\n",
      "\u001b[0;31mRuntimeError\u001b[0m: CUDA out of memory. Tried to allocate 2.68 GiB (GPU 0; 15.75 GiB total capacity; 2.24 GiB already allocated; 215.88 MiB free; 72.21 MiB cached)"
     ]
    }
   ],
   "source": [
    "# training\n",
    "train_losses = []\n",
    "test_losses = []\n",
    "train_accuracies = []\n",
    "test_accuracies = []\n",
    "for n_epoch in range(n_epoches):\n",
    "    # create permutation for batch training\n",
    "    # To-Do: add permutation for SGD...But it is slow.\n",
    "#    permutation = torch.randperm(x_train_images_norm_torch.size()[0])\n",
    "    for i in range(0, x_train_images_norm_torch.size()[0], batch_size):\n",
    "        print(n_epoch, i)\n",
    "        # clear gradients first (for each iteration!)!\n",
    "        optim.zero_grad()\n",
    "        # forward pass\n",
    "        batch_x, batch_y = x_train_images_norm_torch[i:i+batch_size, :, :, :].to(device), y_train_torch[i:i+batch_size].to(device)\n",
    "        batch_y_pred_train = cnn_net(batch_x)\n",
    "        # loss \n",
    "        loss = criterion(batch_y_pred_train.squeeze(), batch_y)\n",
    "        # compute gradients\n",
    "        loss.backward()\n",
    "        # one step optim\n",
    "        optim.step()\n",
    "\n",
    "    # eval training accuracy\n",
    "    with torch.no_grad():\n",
    "        y_pred_train = cnn_net(x_train_images_norm_torch.to(device))\n",
    "        loss_train = criterion(y_pred_train.squeeze(), y_train_torch.to(device))\n",
    "        train_losses.append(loss_train)\n",
    "        \n",
    "        _, predict_train = torch.max(y_pred_train, axis = 1)\n",
    "        accuracy_train = (predict_train == y_train_torch.to(device)).sum().item()/n_train  \n",
    "        train_accuracies.append(accuracy_train)\n",
    "        # evaluate testing sets step-wise\n",
    "        cnn_net.eval()\n",
    "        y_pred_test = cnn_net(x_test_images_norm_torch.to(device))\n",
    "        loss_test = criterion(y_pred_test.squeeze().to(device), y_test_torch.to(device))\n",
    "        test_losses.append(loss_test)\n",
    "        _, predict_test = torch.max(y_pred_test.to(device), axis = 1)\n",
    "        accuracy_test = (predict_test == y_test_torch.to(device)).sum().item()/n_test\n",
    "        test_accuracies.append(accuracy_test)\n",
    "        # print info\n",
    "        if n_epoch % 1 == 0:\n",
    "            print('Epoch {}: train loss: {}; test loss: {}'.format(n_epoch, loss.item(), loss_test.item()))\n",
    "            print('Epoch {}: train accuracy: {}; test accuracy: {}'.format(n_epoch, accuracy_train, accuracy_test))\n",
    "\n",
    "\n",
    "# notes:\n",
    "# CPU training: about 30 mins, with SIMPLEST CNN architecture, 20 epoches and 200 batch_size. \n",
    "# training accuracy: 60%; testing accuracy: 60%.     "
   ]
  },
  {
   "cell_type": "code",
   "execution_count": 8,
   "metadata": {},
   "outputs": [
    {
     "data": {
      "text/plain": [
       "<matplotlib.legend.Legend at 0x7f7590093080>"
      ]
     },
     "execution_count": 8,
     "metadata": {},
     "output_type": "execute_result"
    },
    {
     "data": {
      "image/png": "[encoded data removed]",
      "text/plain": [
       "<Figure size 432x288 with 1 Axes>"
      ]
     },
     "metadata": {},
     "output_type": "display_data"
    }
   ],
   "source": [
    "plt.plot(train_losses, label = \"train loss\")\n",
    "plt.plot(test_losses, label = \"test loss\")\n",
    "plt.legend()"
   ]
  },
  {
   "cell_type": "code",
   "execution_count": 9,
   "metadata": {},
   "outputs": [
    {
     "data": {
      "text/plain": [
       "<matplotlib.legend.Legend at 0x7f73a4329278>"
      ]
     },
     "execution_count": 9,
     "metadata": {},
     "output_type": "execute_result"
    },
    {
     "data": {
      "image/png": "[encoded data removed]",
      "text/plain": [
       "<Figure size 432x288 with 1 Axes>"
      ]
     },
     "metadata": {},
     "output_type": "display_data"
    }
   ],
   "source": [
    "plt.plot(train_accuracies, label = \"train accuracy\")\n",
    "plt.plot(test_accuracies, label = \"test accuracy\")\n",
    "plt.legend()"
   ]
  },
  {
   "cell_type": "code",
   "execution_count": 10,
   "metadata": {},
   "outputs": [],
   "source": [
    "torch.save(cnn_net.state_dict(), \"data/cnn_net_ADAM_2conv\")"
   ]
  },
  {
   "cell_type": "code",
   "execution_count": null,
   "metadata": {},
   "outputs": [],
   "source": []
  }
 ],
 "metadata": {
  "kernelspec": {
   "display_name": "Environment (conda_pytorch_p36)",
   "language": "python",
   "name": "conda_pytorch_p36"
  },
  "language_info": {
   "codemirror_mode": {
    "name": "ipython",
    "version": 3
   },
   "file_extension": ".py",
   "mimetype": "text/x-python",
   "name": "python",
   "nbconvert_exporter": "python",
   "pygments_lexer": "ipython3",
   "version": "3.6.5"
  }
 },
 "nbformat": 4,
 "nbformat_minor": 2
}
